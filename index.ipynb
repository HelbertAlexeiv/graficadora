{
  "nbformat": 4,
  "nbformat_minor": 0,
  "metadata": {
    "colab": {
      "provenance": [],
      "authorship_tag": "ABX9TyPzga5eYz2tZ3JaYUmrmEe+",
      "include_colab_link": true
    },
    "kernelspec": {
      "name": "python3",
      "display_name": "Python 3"
    },
    "language_info": {
      "name": "python"
    }
  },
  "cells": [
    {
      "cell_type": "markdown",
      "metadata": {
        "id": "view-in-github",
        "colab_type": "text"
      },
      "source": [
        "<a href=\"https://colab.research.google.com/github/HelbertAlexeiv/graficadora/blob/main/index.ipynb\" target=\"_parent\"><img src=\"https://colab.research.google.com/assets/colab-badge.svg\" alt=\"Open In Colab\"/></a>"
      ]
    },
    {
      "cell_type": "code",
      "source": [
        "import numpy as np\n",
        "import matplotlib.pyplot as plt\n",
        "import math as ma"
      ],
      "metadata": {
        "id": "c3EwsF3LOFsV"
      },
      "execution_count": null,
      "outputs": []
    },
    {
      "cell_type": "code",
      "execution_count": null,
      "metadata": {
        "colab": {
          "base_uri": "https://localhost:8080/",
          "height": 625
        },
        "id": "3ZvMpK8qLFAl",
        "outputId": "ce3c8582-f213-4f3a-e268-300d547075a6"
      },
      "outputs": [
        {
          "name": "stdout",
          "output_type": "stream",
          "text": [
            "------------------------\n",
            "------Graficadora-------\n",
            "------------------------\n",
            "\n",
            "      (1).Funcional Lineal \n",
            "      (2).Funcion Cuadratica \n",
            "      (3).Funcion Cubica \n",
            "      (4).Funcion Exponencial \n",
            "      (5).Funcion Logaritmica \n",
            "      (6).Funcion Trigonmetrica \n",
            "      (7).propia \n",
            "      (8).propia\n",
            "      \n",
            "Elija una opcion: 6\n",
            "\n",
            "        1.Seno\n",
            "        2.Coseno\n",
            "        \n",
            "Elije una opción: 2\n"
          ]
        },
        {
          "output_type": "display_data",
          "data": {
            "text/plain": [
              "<Figure size 432x288 with 1 Axes>"
            ],
            "image/png": "[encoded data removed]"
          },
          "metadata": {
            "needs_background": "light"
          }
        }
      ],
      "source": [
        "print(\"------------------------\")\n",
        "print(\"------Graficadora-------\")\n",
        "print(\"------------------------\")\n",
        "print(\"\"\"\n",
        "      (1).Funcional Lineal \n",
        "      (2).Funcion Cuadratica \n",
        "      (3).Funcion Cubica \n",
        "      (4).Funcion Exponencial \n",
        "      (5).Funcion Logaritmica \n",
        "      (6).Funcion Trigonmetrica \n",
        "      (7).propia \n",
        "      (8).propia\n",
        "      \"\"\")\n",
        "opcion = input(\"Elija una opcion: \")\n",
        "\n",
        "if opcion == \"1\":\n",
        "  N = 100\n",
        "  def funcion_lineal(m, b, x):\n",
        "    return m*x + b\n",
        "\n",
        "  m = int(input(\"Digite el valor de la  pendiente: \"))\n",
        "  b = int(input(\"Digite el valor del punto de corte: \"))\n",
        "\n",
        "  #Processing - graphication\n",
        "  x = np.linspace(-10, 10, 500)\n",
        "  y = funcion_lineal(m, b, x)\n",
        "\n",
        "  plt.plot(x,y, color = 'r')\n",
        "  plt.xlabel('y')\n",
        "  plt.ylabel('x')\n",
        "  plt.title('Funcion lineal: y = mx + b')\n",
        "  plt.grid()\n",
        "  plt.axhline(y=0, color='b')\n",
        "  plt.axvline(x=0, color='b')\n",
        "\n",
        "elif opcion == \"2\":\n",
        "  N = 100\n",
        "\n",
        "  def fn_cuadratica(a, b, c, x):\n",
        "    return a*(x**2) + b*(x) + c\n",
        "  print(\"Si una cuadratica es del forma: ax² + bx + c\")\n",
        "  a = int(input(\"Ingrese el valor de a: \"))\n",
        "  b = int(input(\"Ingrese el valor de b: \"))\n",
        "  c = int(input(\"Ingrese el valor de c: \"))\n",
        "\n",
        "  x = np.linspace(-10, 10, num=N)\n",
        "  y = fn_cuadratica(a, b, c, x)\n",
        "\n",
        "  plt.plot(x,y, color = 'r')\n",
        "  plt.xlabel('y')\n",
        "  plt.ylabel('x')\n",
        "  plt.title('Funcion cuadratica: y = ax² + bx + c')\n",
        "  plt.grid()\n",
        "  plt.axhline(y=0, color='b')\n",
        "  plt.axvline(x=0, color='b')\n",
        "\n",
        "elif opcion == \"3\":\n",
        "  N = 100\n",
        "\n",
        "  def fn_cuadratica(a, b, c, d, x):\n",
        "    return a*(x**3) + b*(x**2) + c*(x) + d\n",
        "  print(\"Si una cubica es del forma: ax³ + bx² + cx + d\")\n",
        "  a = int(input(\"Ingrese el valor de a: \"))\n",
        "  b = int(input(\"Ingrese el valor de b: \"))\n",
        "  c = int(input(\"Ingrese el valor de c: \"))\n",
        "  d = int(input(\"Ingrese el valor de d: \"))\n",
        "\n",
        "  x = np.linspace(-10, 10, num=N)\n",
        "  y = fn_cuadratica(a, b, c, d, x)\n",
        "\n",
        "  plt.plot(x,y, color = 'r')\n",
        "  plt.xlabel('x')\n",
        "  plt.ylabel('y')\n",
        "  plt.title('Funcion cubica: y = ax³ + bx² + cx + d')\n",
        "  plt.grid()\n",
        "  plt.axhline(y=0, color='b')\n",
        "  plt.axvline(x=0, color='b')\n",
        "\n",
        "elif opcion == \"4\":\n",
        "  N = 100\n",
        "\n",
        "  def fn_exponencial(a, x):\n",
        "    return a**x\n",
        "  print(\"Si una cubica es del forma: a^x\")\n",
        "  a = int(input(\"Ingrese el valor de a: \"))\n",
        "\n",
        "  x = np.linspace(-10, 10, num=N)\n",
        "  y = fn_exponencial(a, x)\n",
        "\n",
        "  plt.plot(x,y, color = 'r')\n",
        "  plt.xlabel('x')\n",
        "  plt.ylabel('y')\n",
        "  plt.title('Funcion exponencial: y = a^x')\n",
        "  plt.grid()\n",
        "  plt.axhline(y=0, color='b')\n",
        "  plt.axvline(x=0, color='b')\n",
        "\n",
        "elif opcion == \"5\":\n",
        "  N = 100\n",
        "\n",
        "  def fn_log(a, x):\n",
        "    return np.log(a) / np.log(x)\n",
        "  print(\"Si una funcion logaritmica es de la forma: log a x\")\n",
        "  a = int(input(\"Ingrese el valor de a: \"))\n",
        "\n",
        "  x = np.linspace(-10, 10, num=N) #Tener en cuenta x<=0\n",
        "  y = fn_log(x, a)\n",
        "\n",
        "  plt.plot(x,y, color = 'r')\n",
        "  plt.xlabel('x')\n",
        "  plt.ylabel('y')\n",
        "  plt.title('Funcion logaritmica: y = log a(x)')\n",
        "  plt.grid()\n",
        "  plt.axhline(y=0, color='b')\n",
        "  plt.axvline(x=0, color='b')\n",
        "\n",
        "elif opcion == \"6\":\n",
        "  N = 100\n",
        "  x = np.linspace(-10, 10, num=N)\n",
        "\n",
        "  print(\"\"\"\n",
        "        1.Seno\n",
        "        2.Coseno\n",
        "        \"\"\")\n",
        "  opcion = input(\"Elije una opción: \")\n",
        "  \n",
        "  if opcion == \"1\":\n",
        "    y = np.sin(x)\n",
        "    plt.title('Funcion seno')\n",
        "\n",
        "\n",
        "  if opcion == \"2\":\n",
        "    y = np.cos(x)\n",
        "    plt.title('Funcion coseno')\n",
        "\n",
        "    \n",
        "  plt.plot(x,y, color = 'r')\n",
        "  plt.xlabel('x')\n",
        "  plt.ylabel('y')\n",
        "  plt.grid()\n",
        "  plt.axhline(y=0, color='b')\n",
        "  plt.axvline(x=0, color='b')"
      ]
    }
  ]
}