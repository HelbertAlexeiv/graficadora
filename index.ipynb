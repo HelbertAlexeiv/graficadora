{
  "nbformat": 4,
  "nbformat_minor": 0,
  "metadata": {
    "colab": {
      "provenance": [],
      "authorship_tag": "ABX9TyPf8Jc+deeqQR6uJL+AITNI",
      "include_colab_link": true
    },
    "kernelspec": {
      "name": "python3",
      "display_name": "Python 3"
    },
    "language_info": {
      "name": "python"
    }
  },
  "cells": [
    {
      "cell_type": "markdown",
      "metadata": {
        "id": "view-in-github",
        "colab_type": "text"
      },
      "source": [
        "<a href=\"https://colab.research.google.com/github/HelbertAlexeiv/graficadora/blob/main/index.ipynb\" target=\"_parent\"><img src=\"https://colab.research.google.com/assets/colab-badge.svg\" alt=\"Open In Colab\"/></a>"
      ]
    },
    {
      "cell_type": "code",
      "source": [
        "import numpy as np\n",
        "import matplotlib.pyplot as plt"
      ],
      "metadata": {
        "id": "c3EwsF3LOFsV"
      },
      "execution_count": 4,
      "outputs": []
    },
    {
      "cell_type": "code",
      "execution_count": 5,
      "metadata": {
        "colab": {
          "base_uri": "https://localhost:8080/",
          "height": 642
        },
        "id": "3ZvMpK8qLFAl",
        "outputId": "c3e0a99b-0b57-45ee-8481-f3485711fe3d"
      },
      "outputs": [
        {
          "name": "stdout",
          "output_type": "stream",
          "text": [
            "------------------------\n",
            "------Graficadora-------\n",
            "------------------------\n",
            "\n",
            "      (1).Funcional Lineal \n",
            "      (2).Funcion Cuadratica \n",
            "      (3).Funcion Cubica \n",
            "      (4).Funcion Exponencial \n",
            "      (5).Funcion Logaritmica \n",
            "      (6).Funcion Trigonmetrica \n",
            "      (7).propia \n",
            "      (8).propia\n",
            "      \n",
            "Elija una opcion: 1\n",
            "--------------\n",
            "Funcion lineal\n",
            " Y = mx + b\n",
            "--------------\n",
            "Digite el valor de la  pendiente: 2\n",
            "Digite el valor del punto de corte: 3\n"
          ]
        },
        {
          "output_type": "display_data",
          "data": {
            "text/plain": [
              "<Figure size 432x288 with 1 Axes>"
            ],
            "image/png": "[encoded data removed]"
          },
          "metadata": {
            "needs_background": "light"
          }
        }
      ],
      "source": [
        "print(\"------------------------\")\n",
        "print(\"------Graficadora-------\")\n",
        "print(\"------------------------\")\n",
        "print(\"\"\"\n",
        "      (1).Funcional Lineal \n",
        "      (2).Funcion Cuadratica \n",
        "      (3).Funcion Cubica \n",
        "      (4).Funcion Exponencial \n",
        "      (5).Funcion Logaritmica \n",
        "      (6).Funcion Trigonmetrica \n",
        "      (7).propia \n",
        "      (8).propia\n",
        "      \"\"\")\n",
        "opcion = input(\"Elija una opcion: \")\n",
        "\n",
        "if opcion == \"1\":\n",
        "  N = 100\n",
        "  def funcion_lineal(m, b, x):\n",
        "    return m*x + b\n",
        "\n",
        "\n",
        "  # input   \n",
        "  print(\"--------------\")\n",
        "  print(\"Funcion lineal\")\n",
        "  print(\" Y = mx + b\")\n",
        "  print(\"--------------\")\n",
        "\n",
        "  m = int(input(\"Digite el valor de la  pendiente: \"))\n",
        "  b = int(input(\"Digite el valor del punto de corte: \"))\n",
        "\n",
        "  #Processing - graphication\n",
        "  x = np.linspace(-10, 10, num=N)\n",
        "  y = funcion_lineal(m, b, x)\n",
        "\n",
        "  plt.plot(x,y, color = 'r')\n",
        "  plt.xlabel('x')\n",
        "  plt.ylabel('y')\n",
        "  plt.title('Funcion lineal: y = mx + b')\n",
        "  plt.grid()\n",
        "  plt.axhline(y=0, color='b')\n",
        "  plt.axvline(x=0, color='b')"
      ]
    }
  ]
}